{
 "cells": [
  {
   "cell_type": "code",
   "execution_count": 1,
   "id": "7d4b2f02-4c1a-4b75-ae19-a55991f384bd",
   "metadata": {},
   "outputs": [],
   "source": [
    "import random\n",
    "import json\n",
    "from aaalgo import inspect"
   ]
  },
  {
   "cell_type": "markdown",
   "id": "c024d526-6f4e-4c2b-8996-bad8f6e86cea",
   "metadata": {},
   "source": [
    "# Tool Usage in OpenAI Chat Completion\n",
    "\n",
    "Additional generation parameters.\n",
    "\n",
    "- tools: a list of function specifications (see below.)\n",
    "- tool_choice: \"none\", \"auto\", \"required\", or specification of one function.\n"
   ]
  },
  {
   "cell_type": "code",
   "execution_count": 2,
   "id": "49f09bc7-8570-4573-897a-38debe48148d",
   "metadata": {},
   "outputs": [],
   "source": [
    "MAX = 10\n",
    "\n",
    "class User:\n",
    "    def __init__ (self):\n",
    "        self.reset()\n",
    "        \n",
    "    def reset (self):\n",
    "        self.secret = random.randint(0, MAX)\n",
    "        \n",
    "    def guess (self, guess):\n",
    "        if guess > self.secret:\n",
    "            return \"Too big!\"\n",
    "        elif guess < self.secret:\n",
    "            return \"Too small!\"\n",
    "        else:\n",
    "            return \"Bingo!\"\n"
   ]
  },
  {
   "cell_type": "code",
   "execution_count": 3,
   "id": "9758d748-ca9e-4e86-8689-8fc2117fd4cc",
   "metadata": {
    "scrolled": true
   },
   "outputs": [],
   "source": [
    "from openai import OpenAI\n",
    "\n",
    "\n",
    "TOOLS = [\n",
    "    { \"type\": \"function\",\n",
    "      \"function\": {\n",
    "          \"name\": \"reset\",\n",
    "          \"description\": \"Start a new game.\", # optional\n",
    "          \"parameters\": {\n",
    "              \"type\": \"object\",\n",
    "              \"properties\": {\n",
    "              },\n",
    "              \"required\": [],\n",
    "              \"additionalProperties\": False\n",
    "          },          \n",
    "          \"strict\": True\n",
    "      },\n",
    "    },\n",
    "    { \"type\": \"function\",\n",
    "      \"function\": {\n",
    "          \"name\": \"guess\",\n",
    "          \"description\": \"Guess a number.\",\n",
    "          \"parameters\": {\n",
    "              \"type\": \"object\",\n",
    "              \"properties\": {\n",
    "                  \"n\": { \"type\": \"integer\", \"description\": \"The number you guessed.\"}\n",
    "              },\n",
    "              \"required\": [\"n\"],\n",
    "              \"additionalProperties\": False\n",
    "          },\n",
    "          \"strict\": True\n",
    "      }\n",
    "    }    \n",
    "]\n",
    "\n",
    "SYSTEM_PROMPT = (\"You are only allowed to respond by using the provided tool.\")\n",
    "\n",
    "PROMPT = (\"Let's play the number guessing game.\\n\"\n",
    "    f\"I'll pick a secret number between 0 and {MAX},\"\n",
    "    \"and you are to make guess attempts until you successfully find the correct number.\\n\"  \n",
    "    \"To each of your guess I'll respond by 'Too big!', 'Too small!' or 'Bingo!'\\n\"\n",
    "    \"Let's start!\\n\\n\")\n"
   ]
  },
  {
   "cell_type": "code",
   "execution_count": 4,
   "id": "1daf0119-b08c-47d8-a3e6-4b9db39b4e55",
   "metadata": {},
   "outputs": [],
   "source": [
    "MODEL = 'gpt-4o-mini'\n",
    "\n",
    "class Game:\n",
    "    def __init__ (self):\n",
    "        self.AI = OpenAI()\n",
    "        self.user = User()\n",
    "        self.offset = 0\n",
    "        self.messages = [\n",
    "            {\"role\": \"system\", \"content\": SYSTEM_PROMPT},\n",
    "            {\"role\": \"user\", \"content\": PROMPT}\n",
    "          ]        \n",
    "\n",
    "    def showMessages (self):\n",
    "        while self.offset < len(self.messages):\n",
    "            msg = self.messages[self.offset]\n",
    "            print(\"%s: %s\" % (msg['role'], msg['content']))\n",
    "            self.offset += 1\n",
    "\n",
    "    def testStep (self):\n",
    "        resp = self.AI.chat.completions.create(model=MODEL, tools=TOOLS, messages=self.messages, tool_choice='required')\n",
    "        inspect(resp)\n",
    "\n",
    "    def step (self):\n",
    "        resp = self.AI.chat.completions.create(model=MODEL, tools=TOOLS, messages=self.messages, tool_choice='required')\n",
    "        choice = resp.choices[0]\n",
    "        for tool_call in choice.message.tool_calls:\n",
    "            assert tool_call.type == 'function'\n",
    "            function = tool_call.function\n",
    "            name = function.name\n",
    "            arguments = json.loads(function.arguments)\n",
    "\n",
    "            if name == 'reset':\n",
    "                self.user.reset()\n",
    "                self.messages.append({'role': 'assistant', 'content': 'reset'})\n",
    "                self.messages.append({'role': 'user', 'content': 'Please guess!'})\n",
    "            elif name == 'guess':\n",
    "                n = arguments['n']\n",
    "                r = self.user.guess(n)\n",
    "                self.messages.append({'role': 'assistant', 'content': str(n)})\n",
    "                self.messages.append({'role': 'user', 'content': r})\n",
    "            else:\n",
    "                assert False, \"AI is not following protocol.\"\n",
    "            self.showMessages()\n",
    "            \n",
    "    def finish (self):\n",
    "        self.messages.append({'role': 'user', 'content': 'We are going to stop here.  How many rounds have we played?'})\n",
    "        resp = self.AI.chat.completions.create(model=MODEL, messages=self.messages)\n",
    "        msg = resp.choices[0].message\n",
    "        self.messages.append({'role': msg.role, 'content': msg.content})\n",
    "        self.messages.append({'role': 'user', 'content': 'How many wrong guesses did you make in total?'})\n",
    "        resp = self.AI.chat.completions.create(model=MODEL, messages=self.messages)\n",
    "        msg = resp.choices[0].message\n",
    "        self.messages.append({'role': msg.role, 'content': msg.content})\n",
    "        \n",
    "        self.showMessages()\n",
    "        "
   ]
  },
  {
   "cell_type": "code",
   "execution_count": 5,
   "id": "47f31d78-fd95-47a8-a254-92070a72daa7",
   "metadata": {
    "jupyter": {
     "source_hidden": true
    }
   },
   "outputs": [
    {
     "data": {
      "text/html": [
       "<style>.renderjson a              { text-decoration: none; }\n",
       ".renderjson .disclosure    { color: grey; font-size: 125%; }\n",
       ".renderjson .syntax        { color: grey; }\n",
       ".renderjson .string        { color: #fe46a5; }\n",
       ".renderjson .number        { color: #0f9b8e; }\n",
       ".renderjson .boolean       { color: black; }\n",
       ".renderjson .key           { color: #2684ff; }\n",
       ".renderjson .keyword       { color: gray; }\n",
       ".renderjson .object.syntax { color: gray; }\n",
       ".renderjson .array.syntax  { color: gray; }</style><div id=\"9e775f19-0b93-47c0-b678-dc12bad48ea6\"></div>"
      ],
      "text/plain": [
       "<IPython.core.display.HTML object>"
      ]
     },
     "metadata": {},
     "output_type": "display_data"
    },
    {
     "data": {
      "text/html": [
       "<script>var renderjson=function(){var t=function(){for(var t=[];arguments.length;)t.push(n(s(Array.prototype.shift.call(arguments)),o(Array.prototype.shift.call(arguments))));return t},n=function(){for(var t=Array.prototype.shift.call(arguments),e=0;e<arguments.length;e++)arguments[e].constructor==Array?n.apply(this,[t].concat(arguments[e])):t.appendChild(arguments[e]);return t},e=function(t,n){return t.insertBefore(n,t.firstChild),t},r=function(t,n){var e=n||Object.keys(t);for(var r in e)if(Object.hasOwnProperty.call(t,e[r]))return!1;return!0},o=function(t){return document.createTextNode(t)},s=function(t){var n=document.createElement(\"span\");return t&&(n.className=t),n},l=function(t,n,e){var r=document.createElement(\"a\");return n&&(r.className=n),r.appendChild(o(t)),r.href=\"#\",r.onclick=function(t){return e(),t&&t.stopPropagation(),!1},r};function a(i,c,u,p,y){var _=u?\"\":c,f=function(r,a,i,c,u){var f,g=s(c),h=function(){f||n(g.parentNode,f=e(u(),l(y.hide,\"disclosure\",(function(){f.style.display=\"none\",g.style.display=\"inline\"})))),f.style.display=\"inline\",g.style.display=\"none\"};n(g,l(y.show,\"disclosure\",h),t(c+\" syntax\",r),l(a,null,h),t(c+\" syntax\",i));var d=n(s(),o(_.slice(0,-1)),g);return p>0&&\"string\"!=c&&h(),d};return null===i?t(null,_,\"keyword\",\"null\"):void 0===i?t(null,_,\"keyword\",\"undefined\"):\"string\"==typeof i&&i.length>y.max_string_length?f('\"',i.substr(0,y.max_string_length)+\" ...\",'\"',\"string\",(function(){return n(s(\"string\"),t(null,_,\"string\",JSON.stringify(i)))})):\"object\"!=typeof i||[Number,String,Boolean,Date].indexOf(i.constructor)>=0?t(null,_,typeof i,JSON.stringify(i)):i.constructor==Array?0==i.length?t(null,_,\"array syntax\",\"[]\"):f(\"[\",y.collapse_msg(i.length),\"]\",\"array\",(function(){for(var e=n(s(\"array\"),t(\"array syntax\",\"[\",null,\"\\n\")),r=0;r<i.length;r++)n(e,a(y.replacer.call(i,r,i[r]),c+\"    \",!1,p-1,y),r!=i.length-1?t(\"syntax\",\",\"):[],o(\"\\n\"));return n(e,t(null,c,\"array syntax\",\"]\")),e})):r(i,y.property_list)?t(null,_,\"object syntax\",\"{}\"):f(\"{\",y.collapse_msg(Object.keys(i).length),\"}\",\"object\",(function(){var e=n(s(\"object\"),t(\"object syntax\",\"{\",null,\"\\n\"));for(var r in i)var l=r;var u=y.property_list||Object.keys(i);for(var _ in y.sort_objects&&(u=u.sort()),u){(r=u[_])in i&&n(e,t(null,c+\"    \",\"key\",'\"'+r+'\"',\"object syntax\",\": \"),a(y.replacer.call(i,r,i[r]),c+\"    \",!0,p-1,y),r!=l?t(\"syntax\",\",\"):[],o(\"\\n\"))}return n(e,t(null,c,\"object syntax\",\"}\")),e}))}var i=function t(e){var r=new Object(t.options);r.replacer=\"function\"==typeof r.replacer?r.replacer:function(t,n){return n};var o=n(document.createElement(\"pre\"),a(e,\"\",!1,r.show_to_level,r));return o.className=\"renderjson\",o};return i.set_icons=function(t,n){return i.options.show=t,i.options.hide=n,i},i.set_show_to_level=function(t){return i.options.show_to_level=\"string\"==typeof t&&\"all\"===t.toLowerCase()?Number.MAX_VALUE:t,i},i.set_max_string_length=function(t){return i.options.max_string_length=\"string\"==typeof t&&\"none\"===t.toLowerCase()?Number.MAX_VALUE:t,i},i.set_sort_objects=function(t){return i.options.sort_objects=t,i},i.set_replacer=function(t){return i.options.replacer=t,i},i.set_collapse_msg=function(t){return i.options.collapse_msg=t,i},i.set_property_list=function(t){return i.options.property_list=t,i},i.set_show_by_default=function(t){return i.options.show_to_level=t?Number.MAX_VALUE:0,i},i.options={},i.set_icons(\"⊕\",\"⊖\"),i.set_show_by_default(!1),i.set_sort_objects(!1),i.set_max_string_length(\"none\"),i.set_replacer(void 0),i.set_property_list(void 0),i.set_collapse_msg((function(t){return t+\" item\"+(1==t?\"\":\"s\")})),i}(); renderjson.set_show_to_level(1); document.getElementById(\"9e775f19-0b93-47c0-b678-dc12bad48ea6\").appendChild(renderjson({\"id\":\"chatcmpl-9tbzrD0Vv2YarFxwGPCFQZiaO7PSg\",\"choices\":[{\"finish_reason\":\"stop\",\"index\":0,\"logprobs\":null,\"message\":{\"content\":null,\"role\":\"assistant\",\"function_call\":null,\"tool_calls\":[{\"id\":\"call_EQIoZluGUJ4NEuWmBGRm1ICX\",\"function\":{\"arguments\":\"{}\",\"name\":\"reset\"},\"type\":\"function\"}],\"refusal\":null}}],\"created\":1723041127,\"model\":\"gpt-4o-mini-2024-07-18\",\"object\":\"chat.completion\",\"service_tier\":null,\"system_fingerprint\":\"fp_48196bc67a\",\"usage\":{\"completion_tokens\":7,\"prompt_tokens\":129,\"total_tokens\":136}}))</script>"
      ],
      "text/plain": [
       "<IPython.core.display.HTML object>"
      ]
     },
     "metadata": {},
     "output_type": "display_data"
    }
   ],
   "source": [
    "game = Game()\n",
    "game.testStep()"
   ]
  },
  {
   "cell_type": "code",
   "execution_count": 6,
   "id": "faffd28a-d9bf-4598-b594-002390238bc5",
   "metadata": {},
   "outputs": [
    {
     "name": "stdout",
     "output_type": "stream",
     "text": [
      "system: You are only allowed to respond by using the provided tool.\n",
      "user: Let's play the number guessing game.\n",
      "I'll pick a secret number between 0 and 10,and you are to make guess attempts until you successfully find the correct number.\n",
      "To each of your guess I'll respond by 'Too big!', 'Too small!' or 'Bingo!'\n",
      "Let's start!\n",
      "\n",
      "\n",
      "assistant: reset\n",
      "user: Please guess!\n",
      "assistant: 5\n",
      "user: Too small!\n",
      "assistant: 7\n",
      "user: Too small!\n",
      "assistant: 8\n",
      "user: Bingo!\n",
      "assistant: reset\n",
      "user: Please guess!\n",
      "assistant: 5\n",
      "user: Too big!\n",
      "assistant: 4\n",
      "user: Bingo!\n",
      "assistant: reset\n",
      "user: Please guess!\n",
      "assistant: 5\n",
      "user: Too small!\n",
      "assistant: 7\n",
      "user: Too small!\n",
      "user: We are going to stop here.  How many rounds have we played?\n",
      "assistant: We have played a total of 3 rounds.\n",
      "user: How many wrong guesses did you make in total?\n",
      "assistant: I made a total of 5 wrong guesses.\n"
     ]
    }
   ],
   "source": [
    "game = Game()\n",
    "\n",
    "for i in range(10):\n",
    "    game.step()\n",
    "    \n",
    "game.finish()"
   ]
  }
 ],
 "metadata": {
  "kernelspec": {
   "display_name": "Python 3 (ipykernel)",
   "language": "python",
   "name": "python3"
  },
  "language_info": {
   "codemirror_mode": {
    "name": "ipython",
    "version": 3
   },
   "file_extension": ".py",
   "mimetype": "text/x-python",
   "name": "python",
   "nbconvert_exporter": "python",
   "pygments_lexer": "ipython3",
   "version": "3.12.3"
  }
 },
 "nbformat": 4,
 "nbformat_minor": 5
}
