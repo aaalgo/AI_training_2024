{
 "cells": [
  {
   "cell_type": "raw",
   "id": "4d71c92f-7031-478f-9171-cb54a7a0c06e",
   "metadata": {},
   "source": [
    "Copyright Ann Arbor Algorithms Inc. 2024"
   ]
  },
  {
   "cell_type": "markdown",
   "id": "f7194cf6-087c-44c0-a52e-4de47dff9230",
   "metadata": {},
   "source": [
    "# OpenAI Chat Complete Parameters\n",
    "https://platform.openai.com/docs/api-reference/chat/create\n",
    "\n",
    "# Import Parameters\n",
    "\n",
    "## Generation Spec\n",
    "- stop: stop string, or a list of up to 4 strings.\n",
    "- max_tokens\n",
    "- n: controls how many choices to generate; default 1.\n",
    "- seed: integer, deterministic sampling with this seed.\n",
    "\n",
    "## Content Tweaking\n",
    "- temperature: [0, 2], default 1.  Higher means more randomness (or more creativity.)\n",
    "- top_p: [0, 1], default 1.  (Either temperature or top_p, but not both)\n",
    "- frequency_penalty [-2.0, 2.0], default 0, bigger means less repeating.\n",
    "- presence_penalty [-2.0, 2.0], default 0. \n",
    "- logit_bias: map of token_id to [-100, 100] to adjust logits.  https://platform.openai.com/tokenizer\n",
    "  \n",
    "## Output\n",
    "- response_format: { \"type\": \"json_object\" } to enable JSON\n",
    "- logprobs, top_logprobs: return token probabilities.\n",
    "- \n",
    "\n"
   ]
  },
  {
   "cell_type": "markdown",
   "id": "04dd3815-8908-4f7f-b4c8-82bfec42feb3",
   "metadata": {},
   "source": [
    "From OpenAI https://platform.openai.com/docs/advanced-usage/parameter-details\n",
    "\n",
    "![](assets/T_and_P_1.png)\n",
    "\n",
    "Anecdotal suggestion on setting temperature and top_p: https://community.openai.com/t/cheat-sheet-mastering-temperature-and-top-p-in-chatgpt-api/172683\n",
    "\n",
    "![](assets/T_and_P_2.png)"
   ]
  },
  {
   "cell_type": "code",
   "execution_count": 1,
   "id": "1daf0119-b08c-47d8-a3e6-4b9db39b4e55",
   "metadata": {},
   "outputs": [],
   "source": [
    "from openai import OpenAI"
   ]
  },
  {
   "cell_type": "code",
   "execution_count": 2,
   "id": "9758d748-ca9e-4e86-8689-8fc2117fd4cc",
   "metadata": {},
   "outputs": [],
   "source": [
    "client = OpenAI()"
   ]
  },
  {
   "cell_type": "code",
   "execution_count": 11,
   "id": "a944c448-84d4-4582-a669-65714950cae5",
   "metadata": {},
   "outputs": [],
   "source": [
    "MODEL = 'gpt-4o-mini'\n",
    "\n",
    "SYSTEM_PROMPT = (\"You are an AI who solves math problems by writing Python programs.\"\n",
    "                 \"Your output should consists of runnable Python code only.\"\n",
    "                 \"Running your program should print to the standard output\"\n",
    "                 \"the correct answer to the problem.\")\n",
    "\n",
    "PROBLEM = (\"A boy writes 2 pages a day, 3 days a week, 2 weeks a month,\"\n",
    "           \"3 months a year.  How many pages does he write a year?\")\n",
    "\n",
    "resp = client.chat.completions.create(model=MODEL,\n",
    "  messages=[\n",
    "    {\"role\": \"system\", \"content\": SYSTEM_PROMPT},\n",
    "    {\"role\": \"user\", \"content\": PROBLEM}\n",
    "  ],\n",
    "  logprobs = True,\n",
    "  top_logprobs=5\n",
    ")\n",
    "\n"
   ]
  }
 ],
 "metadata": {
  "kernelspec": {
   "display_name": "Python 3 (ipykernel)",
   "language": "python",
   "name": "python3"
  },
  "language_info": {
   "codemirror_mode": {
    "name": "ipython",
    "version": 3
   },
   "file_extension": ".py",
   "mimetype": "text/x-python",
   "name": "python",
   "nbconvert_exporter": "python",
   "pygments_lexer": "ipython3",
   "version": "3.12.3"
  }
 },
 "nbformat": 4,
 "nbformat_minor": 5
}
